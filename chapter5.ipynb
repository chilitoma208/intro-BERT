{
 "cells": [
  {
   "cell_type": "code",
   "execution_count": 1,
   "metadata": {},
   "outputs": [
    {
     "name": "stderr",
     "output_type": "stream",
     "text": [
      "C:\\Users\\ryosu\\AppData\\Local\\Programs\\Python\\Python310\\lib\\site-packages\\tqdm\\auto.py:22: TqdmWarning: IProgress not found. Please update jupyter and ipywidgets. See https://ipywidgets.readthedocs.io/en/stable/user_install.html\n",
      "  from .autonotebook import tqdm as notebook_tqdm\n"
     ]
    }
   ],
   "source": [
    "#5-2\n",
    "import numpy as np\n",
    "import torch\n",
    "from transformers import BertJapaneseTokenizer, BertForMaskedLM"
   ]
  },
  {
   "cell_type": "code",
   "execution_count": 2,
   "metadata": {},
   "outputs": [
    {
     "name": "stderr",
     "output_type": "stream",
     "text": [
      "Some weights of the model checkpoint at cl-tohoku/bert-base-japanese-whole-word-masking were not used when initializing BertForMaskedLM: ['cls.seq_relationship.weight', 'cls.seq_relationship.bias']\n",
      "- This IS expected if you are initializing BertForMaskedLM from the checkpoint of a model trained on another task or with another architecture (e.g. initializing a BertForSequenceClassification model from a BertForPreTraining model).\n",
      "- This IS NOT expected if you are initializing BertForMaskedLM from the checkpoint of a model that you expect to be exactly identical (initializing a BertForSequenceClassification model from a BertForSequenceClassification model).\n"
     ]
    }
   ],
   "source": [
    "#5-3\n",
    "model_name = 'cl-tohoku/bert-base-japanese-whole-word-masking'\n",
    "tokenizer = BertJapaneseTokenizer.from_pretrained(model_name)\n",
    "bert_mlm = BertForMaskedLM.from_pretrained(model_name)\n",
    "bert_mlm = bert_mlm.cuda()"
   ]
  },
  {
   "cell_type": "code",
   "execution_count": 3,
   "metadata": {},
   "outputs": [
    {
     "name": "stdout",
     "output_type": "stream",
     "text": [
      "['今日', 'は', '[MASK]', 'へ', '行く', '。']\n"
     ]
    }
   ],
   "source": [
    "# 5-4\n",
    "text = '今日は[MASK]へ行く。'\n",
    "tokens = tokenizer.tokenize(text)\n",
    "print(tokens)"
   ]
  },
  {
   "cell_type": "code",
   "execution_count": 4,
   "metadata": {},
   "outputs": [],
   "source": [
    "# 5-5\n",
    "# 文章を符号化し、GPUに配置する\n",
    "input_ids = tokenizer.encode(text, return_tensors='pt')\n",
    "input_ids = input_ids.cuda()\n",
    "\n",
    "# BERTに入力し、分類スコアを得る。\n",
    "# 系列長をそろえる必要がないので、単にinput_idsのみ入力する。\n",
    "with torch.no_grad():\n",
    "    output = bert_mlm(input_ids=input_ids)\n",
    "    scores = output.logits"
   ]
  },
  {
   "cell_type": "code",
   "execution_count": 6,
   "metadata": {},
   "outputs": [
    {
     "name": "stdout",
     "output_type": "stream",
     "text": [
      "tensor([[[ -5.8543,   5.0460,  -1.7982,  ...,  -4.8385,  -6.4237,  -7.8076],\n",
      "         [ -4.0240,   7.2824,  -5.3991,  ...,  -6.0372,  -6.5835,  -2.1293],\n",
      "         [ -5.8373,   5.3621,  -2.2092,  ...,  -4.3541,  -5.7282,  -4.3881],\n",
      "         ...,\n",
      "         [ -7.8706,   5.9728,  -4.3934,  ...,  -4.3237,  -6.0895, -11.4354],\n",
      "         [ -5.4528,   6.5476,   0.0342,  ...,  -4.5627,  -5.1644,  -7.0159],\n",
      "         [ -8.7527,   3.2642,  -1.6652,  ...,  -5.0585,  -7.0542, -10.7617]]],\n",
      "       device='cuda:0')\n"
     ]
    }
   ],
   "source": [
    "print(scores)"
   ]
  },
  {
   "cell_type": "code",
   "execution_count": 5,
   "metadata": {},
   "outputs": [
    {
     "name": "stdout",
     "output_type": "stream",
     "text": [
      "今日は東京へ行く。\n"
     ]
    }
   ],
   "source": [
    "# 5-6\n",
    "# ID列で'[MASK]'(IDは4)の位置を調べる。\n",
    "mask_position = input_ids[0].tolist().index(4)\n",
    "\n",
    "# スコアが最も良いトークンのIDを取り出し、トークンに変換する。\n",
    "id_best = scores[0, mask_position].argmax(-1).item()\n",
    "token_best = tokenizer.convert_ids_to_tokens(id_best)\n",
    "token_best = token_best.replace('##', '')\n",
    "\n",
    "# [MASK]を上で求めたトークンで置き換える。\n",
    "text = text.replace('[MASK]', token_best)\n",
    "\n",
    "print(text)"
   ]
  },
  {
   "cell_type": "code",
   "execution_count": 7,
   "metadata": {},
   "outputs": [
    {
     "name": "stdout",
     "output_type": "stream",
     "text": [
      "今日は東京へ行く。\n",
      "今日はハワイへ行く。\n",
      "今日は学校へ行く。\n",
      "今日はニューヨークへ行く。\n",
      "今日はどこへ行く。\n",
      "今日は空港へ行く。\n",
      "今日はアメリカへ行く。\n",
      "今日は病院へ行く。\n",
      "今日はそこへ行く。\n",
      "今日はロンドンへ行く。\n"
     ]
    }
   ],
   "source": [
    "# 5-7\n",
    "def predict_mask_topk(text, tokenizer, bert_mlm, num_topk):\n",
    "    '''\n",
    "    文章中の最初の[MASK]を上位のトークンに置き換える\n",
    "    上位何位まで使うかは、num_topkで指定\n",
    "    出力は穴埋めされた文章のリストと、置き換えられたトークンのスコアのリスト\n",
    "    '''\n",
    "    # 文章を符号化し、BERTで分類スコアを得る\n",
    "    input_ids = tokenizer.encode(text, return_tensors='pt')\n",
    "    input_ids = input_ids.cuda()\n",
    "    with torch.no_grad():\n",
    "        output = bert_mlm(input_ids=input_ids)\n",
    "    scores = output.logits\n",
    "    \n",
    "    # スコアが上位のトークンとスコアを求める\n",
    "    mask_position = input_ids[0].tolist().index(4)\n",
    "    topk = scores[0, mask_position].topk(num_topk)\n",
    "    ids_topk = topk.indices  # トークンのID\n",
    "    tokens_topk = tokenizer.convert_ids_to_tokens(ids_topk)  # トークン\n",
    "    scores_topk = topk.values.cpu().numpy()  # スコア\n",
    "    \n",
    "    # 文章中の[MASK]を上で求めたトークンに置き換える\n",
    "    text_topk = []\n",
    "    for token in tokens_topk:\n",
    "        token = token.replace('##', '')\n",
    "        text_topk.append(text.replace('[MASK]', token, 1))\n",
    "    \n",
    "    return text_topk, scores_topk\n",
    "\n",
    "text = '今日は[MASK]へ行く。'\n",
    "text_topk, _ = predict_mask_topk(text, tokenizer, bert_mlm, 10)\n",
    "print(*text_topk, sep='\\n')"
   ]
  },
  {
   "cell_type": "code",
   "execution_count": null,
   "metadata": {},
   "outputs": [],
   "source": []
  }
 ],
 "metadata": {
  "interpreter": {
   "hash": "5e8e67f968b24188a0e15ff64f191e64960bfecd884fc2af978c917866a31b42"
  },
  "kernelspec": {
   "display_name": "Python 3.10.4 64-bit",
   "language": "python",
   "name": "python3"
  },
  "language_info": {
   "codemirror_mode": {
    "name": "ipython",
    "version": 3
   },
   "file_extension": ".py",
   "mimetype": "text/x-python",
   "name": "python",
   "nbconvert_exporter": "python",
   "pygments_lexer": "ipython3",
   "version": "3.10.4"
  },
  "orig_nbformat": 4
 },
 "nbformat": 4,
 "nbformat_minor": 2
}
