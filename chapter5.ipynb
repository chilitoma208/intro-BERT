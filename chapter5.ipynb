{
 "cells": [
  {
   "cell_type": "code",
   "execution_count": 3,
   "metadata": {},
   "outputs": [],
   "source": [
    "#5-2\n",
    "import numpy as np\n",
    "import torch\n",
    "from transformers import BertJapaneseTokenizer, BertForMaskedLM"
   ]
  },
  {
   "cell_type": "code",
   "execution_count": 4,
   "metadata": {},
   "outputs": [
    {
     "name": "stderr",
     "output_type": "stream",
     "text": [
      "Some weights of the model checkpoint at cl-tohoku/bert-base-japanese-whole-word-masking were not used when initializing BertForMaskedLM: ['cls.seq_relationship.bias', 'cls.seq_relationship.weight']\n",
      "- This IS expected if you are initializing BertForMaskedLM from the checkpoint of a model trained on another task or with another architecture (e.g. initializing a BertForSequenceClassification model from a BertForPreTraining model).\n",
      "- This IS NOT expected if you are initializing BertForMaskedLM from the checkpoint of a model that you expect to be exactly identical (initializing a BertForSequenceClassification model from a BertForSequenceClassification model).\n"
     ]
    }
   ],
   "source": [
    "#5-3\n",
    "model_name = 'cl-tohoku/bert-base-japanese-whole-word-masking'\n",
    "tokenizer = BertJapaneseTokenizer.from_pretrained(model_name)\n",
    "bert_mlm = BertForMaskedLM.from_pretrained(model_name)\n",
    "bert_mlm = bert_mlm.cuda()"
   ]
  },
  {
   "cell_type": "code",
   "execution_count": 5,
   "metadata": {},
   "outputs": [
    {
     "name": "stdout",
     "output_type": "stream",
     "text": [
      "['今日', 'は', '[MASK]', 'へ', '行く', '。']\n"
     ]
    }
   ],
   "source": [
    "# 5-4\n",
    "text = '今日は[MASK]へ行く。'\n",
    "tokens = tokenizer.tokenize(text)\n",
    "print(tokens)"
   ]
  },
  {
   "cell_type": "code",
   "execution_count": 6,
   "metadata": {},
   "outputs": [],
   "source": [
    "# 5-5\n",
    "# 文章を符号化し、GPUに配置する\n",
    "input_ids = tokenizer.encode(text, return_tensors='pt')\n",
    "input_ids = input_ids.cuda()\n",
    "\n",
    "# BERTに入力し、分類スコアを得る。\n",
    "# 系列長をそろえる必要がないので、単にinput_idsのみ入力する。\n",
    "with torch.no_grad():\n",
    "    output = bert_mlm(input_ids=input_ids)\n",
    "    scores = output.logits"
   ]
  },
  {
   "cell_type": "code",
   "execution_count": 7,
   "metadata": {},
   "outputs": [
    {
     "name": "stdout",
     "output_type": "stream",
     "text": [
      "tensor([[[ -5.8543,   5.0460,  -1.7982,  ...,  -4.8385,  -6.4237,  -7.8076],\n",
      "         [ -4.0240,   7.2824,  -5.3991,  ...,  -6.0372,  -6.5835,  -2.1293],\n",
      "         [ -5.8373,   5.3621,  -2.2092,  ...,  -4.3541,  -5.7282,  -4.3881],\n",
      "         ...,\n",
      "         [ -7.8706,   5.9728,  -4.3934,  ...,  -4.3237,  -6.0895, -11.4354],\n",
      "         [ -5.4528,   6.5476,   0.0342,  ...,  -4.5627,  -5.1644,  -7.0159],\n",
      "         [ -8.7527,   3.2642,  -1.6652,  ...,  -5.0585,  -7.0542, -10.7617]]],\n",
      "       device='cuda:0')\n"
     ]
    }
   ],
   "source": [
    "print(scores)"
   ]
  },
  {
   "cell_type": "code",
   "execution_count": 8,
   "metadata": {},
   "outputs": [
    {
     "name": "stdout",
     "output_type": "stream",
     "text": [
      "今日は東京へ行く。\n"
     ]
    }
   ],
   "source": [
    "# 5-6\n",
    "# ID列で'[MASK]'(IDは4)の位置を調べる。\n",
    "mask_position = input_ids[0].tolist().index(4)\n",
    "\n",
    "# スコアが最も良いトークンのIDを取り出し、トークンに変換する。\n",
    "id_best = scores[0, mask_position].argmax(-1).item()\n",
    "token_best = tokenizer.convert_ids_to_tokens(id_best)\n",
    "token_best = token_best.replace('##', '')\n",
    "\n",
    "# [MASK]を上で求めたトークンで置き換える。\n",
    "text = text.replace('[MASK]', token_best)\n",
    "\n",
    "print(text)"
   ]
  },
  {
   "cell_type": "code",
   "execution_count": 9,
   "metadata": {},
   "outputs": [
    {
     "name": "stdout",
     "output_type": "stream",
     "text": [
      "今日は東京へ行く。\n",
      "今日はハワイへ行く。\n",
      "今日は学校へ行く。\n",
      "今日はニューヨークへ行く。\n",
      "今日はどこへ行く。\n",
      "今日は空港へ行く。\n",
      "今日はアメリカへ行く。\n",
      "今日は病院へ行く。\n",
      "今日はそこへ行く。\n",
      "今日はロンドンへ行く。\n"
     ]
    }
   ],
   "source": [
    "# 5-7\n",
    "def predict_mask_topk(text, tokenizer, bert_mlm, num_topk):\n",
    "    '''\n",
    "    文章中の最初の[MASK]を上位のトークンに置き換える\n",
    "    上位何位まで使うかは、num_topkで指定\n",
    "    出力は穴埋めされた文章のリストと、置き換えられたトークンのスコアのリスト\n",
    "    '''\n",
    "    # 文章を符号化し、BERTで分類スコアを得る\n",
    "    input_ids = tokenizer.encode(text, return_tensors='pt')\n",
    "    input_ids = input_ids.cuda()\n",
    "    with torch.no_grad():\n",
    "        output = bert_mlm(input_ids=input_ids)\n",
    "    scores = output.logits\n",
    "    \n",
    "    # スコアが上位のトークンとスコアを求める\n",
    "    mask_position = input_ids[0].tolist().index(4)\n",
    "    topk = scores[0, mask_position].topk(num_topk)\n",
    "    ids_topk = topk.indices  # トークンのID\n",
    "    tokens_topk = tokenizer.convert_ids_to_tokens(ids_topk)  # トークン\n",
    "    scores_topk = topk.values.cpu().numpy()  # スコア\n",
    "    \n",
    "    # 文章中の[MASK]を上で求めたトークンに置き換える\n",
    "    text_topk = []\n",
    "    for token in tokens_topk:\n",
    "        token = token.replace('##', '')\n",
    "        text_topk.append(text.replace('[MASK]', token, 1))\n",
    "    \n",
    "    return text_topk, scores_topk\n",
    "\n",
    "text = '今日は[MASK]へ行く。'\n",
    "text_topk, _ = predict_mask_topk(text, tokenizer, bert_mlm, 10)\n",
    "print(*text_topk, sep='\\n')"
   ]
  },
  {
   "cell_type": "code",
   "execution_count": 10,
   "metadata": {},
   "outputs": [
    {
     "data": {
      "text/plain": [
       "'今日は、東京へ行く。'"
      ]
     },
     "execution_count": 10,
     "metadata": {},
     "output_type": "execute_result"
    }
   ],
   "source": [
    "# 5-8\n",
    "def greedy_predictin(text, tokenizer, bert_mlm):\n",
    "    '''\n",
    "    [MASK]を含む文章を入力として、貪欲法で穴埋めを行った文章を出力する\n",
    "    '''\n",
    "    # 前から順に[MASK]を1つずつ、スコアの最も高いトークンに置き換える\n",
    "    for _ in range(text.count('[MASK]')):\n",
    "        text = predict_mask_topk(text, tokenizer, bert_mlm, 1)[0][0]\n",
    "    return text\n",
    "\n",
    "text = '今日は[MASK][MASK]へ行く。'\n",
    "greedy_predictin(text, tokenizer, bert_mlm)"
   ]
  },
  {
   "cell_type": "code",
   "execution_count": 11,
   "metadata": {},
   "outputs": [
    {
     "data": {
      "text/plain": [
       "'今日は社会社会的な地位'"
      ]
     },
     "execution_count": 11,
     "metadata": {},
     "output_type": "execute_result"
    }
   ],
   "source": [
    "# 5-9\n",
    "text = '今日は[MASK][MASK][MASK][MASK][MASK]'\n",
    "greedy_predictin(text, tokenizer, bert_mlm)"
   ]
  },
  {
   "cell_type": "code",
   "execution_count": 12,
   "metadata": {},
   "outputs": [
    {
     "name": "stdout",
     "output_type": "stream",
     "text": [
      "今日は東京下町へ行く。\n",
      "今日は新しい高校へ行く。\n",
      "今日は新しい旅へ行く。\n",
      "今日はこの村へ行く。\n",
      "今日は東京マラソンへ行く。\n",
      "今日はその家へ行く。\n",
      "今日はあの家へ行く。\n",
      "今日はこの道へ行く。\n",
      "今日はそのホテルへ行く。\n",
      "今日は東京オリンピックへ行く。\n"
     ]
    }
   ],
   "source": [
    "# 5-10\n",
    "def beam_search(text, tokenizer, bert_mlm, num_topk):\n",
    "    '''\n",
    "    ビームサーチで文章の穴埋めを行う\n",
    "    '''\n",
    "    num_mask = text.count('[MASK]')\n",
    "    text_topk = [text]\n",
    "    scores_topk = np.array([0])\n",
    "    for _ in range(num_mask):\n",
    "        # 現在得られている、それぞれの文章に対して、\n",
    "        # 最初の[MASK]をスコアが上位のトークンで穴埋めする\n",
    "        text_candidates = []  # それぞれの文章を穴埋めした結果を追加する\n",
    "        score_candidates = []  # 穴埋めに使ったトークンのスコアを追加する\n",
    "        for text_mask, score in zip(text_topk, scores_topk):\n",
    "            text_topk_inner, scores_topk_inner = predict_mask_topk(\n",
    "                text_mask, tokenizer, bert_mlm, num_topk\n",
    "            )\n",
    "            text_candidates.extend(text_topk_inner)\n",
    "            score_candidates.append( score + scores_topk_inner )\n",
    "        \n",
    "        # 穴埋めにより生成された文章の中から合計スコアの高いものを選ぶ\n",
    "        score_candidates = np.hstack(score_candidates)\n",
    "        idx_list = score_candidates.argsort()[::1][:num_topk]\n",
    "        text_topk = [ text_candidates[idx] for idx in idx_list]\n",
    "        scores_topk = score_candidates[idx_list]\n",
    "    \n",
    "    return text_topk\n",
    "\n",
    "text = '今日は[MASK][MASK]へ行く。'\n",
    "text_topk = beam_search(text, tokenizer, bert_mlm, 10)\n",
    "print(*text_topk, sep='\\n')"
   ]
  },
  {
   "cell_type": "code",
   "execution_count": 17,
   "metadata": {},
   "outputs": [
    {
     "name": "stdout",
     "output_type": "stream",
     "text": [
      "今日は自動車国産-[UNK]参照\n",
      "今日は自動車国産-[UNK]産\n",
      "今日は自動車国産-[UNK]産業\n",
      "今日は自動車国産-自転車製造\n",
      "今日は自動車国産-[UNK]輸入\n",
      "今日は自動車国産-自転車混合\n",
      "今日は自動車国産-自転車[UNK]\n",
      "今日は自動車国産-自転車工業\n",
      "今日は自動車国産-[UNK]工業\n",
      "今日は自動車国産-自転車合成\n"
     ]
    }
   ],
   "source": [
    "# 5-11\n",
    "text = '今日は[MASK][MASK][MASK][MASK][MASK]'\n",
    "text_topk = beam_search(text, tokenizer, bert_mlm, 10)\n",
    "print(*text_topk, sep='\\n')"
   ]
  }
 ],
 "metadata": {
  "interpreter": {
   "hash": "2fe5cee9e99d2f9ad7ec9c0d5763c553fbcd34307a308f06babbe6053803a20a"
  },
  "kernelspec": {
   "display_name": "Python 3.10.4 64-bit",
   "language": "python",
   "name": "python3"
  },
  "language_info": {
   "codemirror_mode": {
    "name": "ipython",
    "version": 3
   },
   "file_extension": ".py",
   "mimetype": "text/x-python",
   "name": "python",
   "nbconvert_exporter": "python",
   "pygments_lexer": "ipython3",
   "version": "3.10.4"
  },
  "orig_nbformat": 4
 },
 "nbformat": 4,
 "nbformat_minor": 2
}
